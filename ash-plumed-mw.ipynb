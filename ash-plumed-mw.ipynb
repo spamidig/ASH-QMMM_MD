{
 "cells": [
  {
   "cell_type": "code",
   "execution_count": null,
   "id": "04e484dd",
   "metadata": {},
   "outputs": [],
   "source": [
    "# Install Airavata SDK with Jupyter support\n",
    "%pip install -qU \"airavata-python-sdk[notebook]==2.2.3\"\n",
    "\n",
    "# Import Airavata Jupyter magics for managing remote HPC jobs\n",
    "import airavata_jupyter_magic\n",
    "\n",
    "# Authenticate the session (prompts for credentials or uses tokens)\n",
    "%authenticate\n",
    "\n",
    "# Request an HPC runtime with CPU support using a YAML job config\n",
    "%request_runtime hpc_cpu --file=cybershuttle.yml --walltime=130 --use=AnvilCPU:cpu\n",
    "\n",
    "# Wait for the runtime to be ready\n",
    "%wait_for_runtime hpc_cpu --live\n",
    "\n",
    "# Switch to the requested HPC runtime\n",
    "%switch_runtime hpc_cpu"
   ]
  },
  {
   "cell_type": "code",
   "execution_count": null,
   "id": "26bb31dc",
   "metadata": {
    "scrolled": true
   },
   "outputs": [],
   "source": [
    "%%bash\n",
    "set echo on \n",
    "# clone the ASH-Plumed-MW repo into the workspace\n",
    "git clone \\\n",
    "  https://github.com/spamidig/ASH-QMMM_MD.git\\\n",
    "  ash-plumed_mw\n",
    "\n",
    "# cd to ash-plumed_mw directory\n",
    "cd ash-plumed_mw \n",
    "\n",
    "date \n",
    "\n",
    "# Create output directory to save results\n",
    "mkdir -p outputs\n",
    "\n",
    "date"
   ]
  },
  {
   "cell_type": "code",
   "execution_count": null,
   "id": "1400375b",
   "metadata": {},
   "outputs": [],
   "source": [
    "# Required imports\n",
    "import os\n",
    "import subprocess\n",
    "\n",
    "# Define all relevant directories\n",
    "#FASTA_DIR = f\"/u/thayes/vizfold/examples/monomer/fasta_dir_{PROT}\"\n",
    "\n",
   ]
  },
  {
   "cell_type": "code",
   "execution_count": null,
   "id": "3fd757f9",
   "metadata": {},
   "outputs": [],
   "source": [
    "# Run ash script \n",
    "ashrun_cmd = f\"\"\"\n",
    "python3 test.py \\\n",
    "\"\"\"\n",
    "\n",
    "subprocess.run(ashrun_cmd, shell=True, check=True)\n"
   ]
  },
  {
   "cell_type": "code",
   "execution_count": null,
   "id": "66a306cc",
   "metadata": {},
   "outputs": [],
   "source": [
   ]
  },
  {
   "cell_type": "code",
   "execution_count": null,
   "id": "941bd83f",
   "metadata": {},
   "outputs": [],
   "source": [
    "\n",
   ]
  },
  {
   "cell_type": "code",
   "execution_count": null,
   "id": "756ecf74",
   "metadata": {},
   "outputs": [],
   "source": [
   ]
  }
 ],
 "metadata": {
  "kernelspec": {
   "display_name": "Python 3 (ipykernel)",
   "language": "python",
   "name": "python3"
  },
  "language_info": {
   "codemirror_mode": {
    "name": "ipython",
    "version": 3
   },
   "file_extension": ".py",
   "mimetype": "text/x-python",
   "name": "python",
   "nbconvert_exporter": "python",
   "pygments_lexer": "ipython3",
   "version": "3.11.0"
  }
 },
 "nbformat": 4,
 "nbformat_minor": 5
}
